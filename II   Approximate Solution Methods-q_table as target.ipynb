{
 "cells": [
  {
   "cell_type": "code",
   "execution_count": 1,
   "metadata": {},
   "outputs": [
    {
     "data": {
      "text/plain": [
       "'\\nII   Approximate Solution Methods\\n\\n1, \\n\\n'"
      ]
     },
     "execution_count": 1,
     "metadata": {},
     "output_type": "execute_result"
    }
   ],
   "source": [
    "'''\n",
    "II   Approximate Solution Methods\n",
    "\n",
    "1, \n",
    "\n",
    "'''\n"
   ]
  },
  {
   "cell_type": "code",
   "execution_count": 1,
   "metadata": {},
   "outputs": [
    {
     "name": "stdout",
     "output_type": "stream",
     "text": [
      "(4800, 3) (4800, 1)\n"
     ]
    }
   ],
   "source": [
    "\n",
    "\n",
    "import gym\n",
    "import numpy as np\n",
    "env_name = \"MountainCar-v0\"\n",
    "env = gym.make(env_name)\n",
    "\n",
    "# This is just an implementation of the classic “agent-environment loop”. \n",
    "# Each timestep, the agent chooses an action, and the environment returns an observation and a reward.\n",
    "# The process gets started by calling reset(), which returns an initial observation \n",
    "\n",
    "obs = env.reset() \n",
    "env.render()\n",
    "n_states = 40\n",
    "\n",
    "\n",
    "\n",
    "N = n_states*n_states*env.action_space.n\n",
    "X,y=[],[]\n",
    "for i in range(n_states):\n",
    "    for j in range(n_states):\n",
    "        for k in range(env.action_space.n):\n",
    "            X.append([i,j,k])\n",
    "            y.append(q_table[i][j][k])\n",
    "\n",
    "X = np.matrix(X)\n",
    "y = np.matrix(y).T\n",
    "print(X.shape,y.shape)\n",
    "\n",
    "\n",
    "# J = 20basis functions obtained by k-means clustering\n",
    "# sigma set to standard deviation of entire data\n",
    "from sklearn.cluster import KMeans\n",
    "J = 10;\n",
    "kmeans = KMeans(n_clusters=J,random_state=0).fit(X)\n",
    "sig=np.std(X)\n",
    "\n",
    "#Construct design matrix\n",
    "U=np.zeros((N,J))\n",
    "for i in range(N):\n",
    "    for j in range(J):\n",
    "        U[i][j]=np.exp(-(np.linalg.norm(X[i]-kmeans.cluster_centers_[j]) / sig)**2)\n",
    "        \n",
    "\n",
    "#Solve RBF model, predict and plot\n",
    "# w=np.dot((np.linalg.inv(np.dot(U.T,U))), U.T) * y\n",
    "# yh_rbf = np.dot(U,w)"
   ]
  },
  {
   "cell_type": "code",
   "execution_count": 2,
   "metadata": {},
   "outputs": [],
   "source": [
    "def q_hat(pos,vel,a,w):\n",
    "    # https://stackoverflow.com/questions/18927475/numpy-array-get-row-index-searching-by-a-row\n",
    "    idx=np.where(np.all(X==[pos,vel,a],axis=1))\n",
    "    return np.dot(np.squeeze(U[idx[0]]),w),idx[0]\n",
    "\n",
    "# idx=np.where(np.all(X==[39,39,2],axis=1))\n",
    "# print(idx[0])\n",
    "# print(np.squeeze(U[idx[0]]))\n",
    "\n",
    "# print([q_hat(1,1,0,w)[0]-1,q_hat(1,1,0,w)[0],q_hat(1,1,0,w)[0]-2])\n",
    "# print(np.argmax([q_hat(1,1,0,w)[0]-1,q_hat(1,1,0,w)[0],q_hat(1,1,0,w)[0]-2]))"
   ]
  },
  {
   "cell_type": "code",
   "execution_count": 4,
   "metadata": {},
   "outputs": [
    {
     "name": "stdout",
     "output_type": "stream",
     "text": [
      "Episode: 0\n"
     ]
    },
    {
     "ename": "KeyboardInterrupt",
     "evalue": "",
     "output_type": "error",
     "traceback": [
      "\u001b[1;31m---------------------------------------------------------------------------\u001b[0m",
      "\u001b[1;31mKeyboardInterrupt\u001b[0m                         Traceback (most recent call last)",
      "\u001b[1;32m<ipython-input-4-4e96e80ffecd>\u001b[0m in \u001b[0;36m<module>\u001b[1;34m\u001b[0m\n\u001b[0;32m     54\u001b[0m         \u001b[0ma\u001b[0m \u001b[1;33m=\u001b[0m \u001b[0mnp\u001b[0m\u001b[1;33m.\u001b[0m\u001b[0margmax\u001b[0m\u001b[1;33m(\u001b[0m\u001b[1;33m[\u001b[0m\u001b[0mq_hat\u001b[0m\u001b[1;33m(\u001b[0m\u001b[0mpos\u001b[0m\u001b[1;33m,\u001b[0m\u001b[0mvel\u001b[0m\u001b[1;33m,\u001b[0m\u001b[1;36m0\u001b[0m\u001b[1;33m,\u001b[0m\u001b[0mw\u001b[0m\u001b[1;33m)\u001b[0m\u001b[1;33m[\u001b[0m\u001b[1;36m0\u001b[0m\u001b[1;33m]\u001b[0m\u001b[1;33m,\u001b[0m\u001b[0mq_hat\u001b[0m\u001b[1;33m(\u001b[0m\u001b[0mpos\u001b[0m\u001b[1;33m,\u001b[0m\u001b[0mvel\u001b[0m\u001b[1;33m,\u001b[0m\u001b[1;36m1\u001b[0m\u001b[1;33m,\u001b[0m\u001b[0mw\u001b[0m\u001b[1;33m)\u001b[0m\u001b[1;33m[\u001b[0m\u001b[1;36m0\u001b[0m\u001b[1;33m]\u001b[0m\u001b[1;33m,\u001b[0m\u001b[0mq_hat\u001b[0m\u001b[1;33m(\u001b[0m\u001b[0mpos\u001b[0m\u001b[1;33m,\u001b[0m\u001b[0mvel\u001b[0m\u001b[1;33m,\u001b[0m\u001b[1;36m2\u001b[0m\u001b[1;33m,\u001b[0m\u001b[0mw\u001b[0m\u001b[1;33m)\u001b[0m\u001b[1;33m[\u001b[0m\u001b[1;36m0\u001b[0m\u001b[1;33m]\u001b[0m\u001b[1;33m]\u001b[0m\u001b[1;33m)\u001b[0m\u001b[1;33m\u001b[0m\u001b[1;33m\u001b[0m\u001b[0m\n\u001b[0;32m     55\u001b[0m     \u001b[1;32mwhile\u001b[0m \u001b[1;32mTrue\u001b[0m\u001b[1;33m:\u001b[0m\u001b[1;33m\u001b[0m\u001b[1;33m\u001b[0m\u001b[0m\n\u001b[1;32m---> 56\u001b[1;33m         \u001b[0menv\u001b[0m\u001b[1;33m.\u001b[0m\u001b[0mrender\u001b[0m\u001b[1;33m(\u001b[0m\u001b[1;33m)\u001b[0m\u001b[1;33m\u001b[0m\u001b[1;33m\u001b[0m\u001b[0m\n\u001b[0m\u001b[0;32m     57\u001b[0m         \u001b[0mpos\u001b[0m\u001b[1;33m,\u001b[0m \u001b[0mvel\u001b[0m \u001b[1;33m=\u001b[0m \u001b[0mdiscretization\u001b[0m\u001b[1;33m(\u001b[0m\u001b[0menv\u001b[0m\u001b[1;33m,\u001b[0m \u001b[0mobs\u001b[0m\u001b[1;33m)\u001b[0m \u001b[1;31m# discretize the current state\u001b[0m\u001b[1;33m\u001b[0m\u001b[1;33m\u001b[0m\u001b[0m\n\u001b[0;32m     58\u001b[0m         \u001b[0mobs\u001b[0m\u001b[1;33m,\u001b[0m \u001b[0mreward\u001b[0m\u001b[1;33m,\u001b[0m \u001b[0mterminate\u001b[0m\u001b[1;33m,\u001b[0m\u001b[0m_\u001b[0m \u001b[1;33m=\u001b[0m \u001b[0menv\u001b[0m\u001b[1;33m.\u001b[0m\u001b[0mstep\u001b[0m\u001b[1;33m(\u001b[0m\u001b[0ma\u001b[0m\u001b[1;33m)\u001b[0m  \u001b[1;31m#Take action A, observe R, S'\u001b[0m\u001b[1;33m\u001b[0m\u001b[1;33m\u001b[0m\u001b[0m\n",
      "\u001b[1;32m~\\Anaconda3\\lib\\site-packages\\gym\\envs\\classic_control\\mountain_car.py\u001b[0m in \u001b[0;36mrender\u001b[1;34m(self, mode)\u001b[0m\n\u001b[0;32m    117\u001b[0m         \u001b[0mself\u001b[0m\u001b[1;33m.\u001b[0m\u001b[0mcartrans\u001b[0m\u001b[1;33m.\u001b[0m\u001b[0mset_rotation\u001b[0m\u001b[1;33m(\u001b[0m\u001b[0mmath\u001b[0m\u001b[1;33m.\u001b[0m\u001b[0mcos\u001b[0m\u001b[1;33m(\u001b[0m\u001b[1;36m3\u001b[0m \u001b[1;33m*\u001b[0m \u001b[0mpos\u001b[0m\u001b[1;33m)\u001b[0m\u001b[1;33m)\u001b[0m\u001b[1;33m\u001b[0m\u001b[1;33m\u001b[0m\u001b[0m\n\u001b[0;32m    118\u001b[0m \u001b[1;33m\u001b[0m\u001b[0m\n\u001b[1;32m--> 119\u001b[1;33m         \u001b[1;32mreturn\u001b[0m \u001b[0mself\u001b[0m\u001b[1;33m.\u001b[0m\u001b[0mviewer\u001b[0m\u001b[1;33m.\u001b[0m\u001b[0mrender\u001b[0m\u001b[1;33m(\u001b[0m\u001b[0mreturn_rgb_array\u001b[0m \u001b[1;33m=\u001b[0m \u001b[0mmode\u001b[0m\u001b[1;33m==\u001b[0m\u001b[1;34m'rgb_array'\u001b[0m\u001b[1;33m)\u001b[0m\u001b[1;33m\u001b[0m\u001b[1;33m\u001b[0m\u001b[0m\n\u001b[0m\u001b[0;32m    120\u001b[0m \u001b[1;33m\u001b[0m\u001b[0m\n\u001b[0;32m    121\u001b[0m     \u001b[1;32mdef\u001b[0m \u001b[0mget_keys_to_action\u001b[0m\u001b[1;33m(\u001b[0m\u001b[0mself\u001b[0m\u001b[1;33m)\u001b[0m\u001b[1;33m:\u001b[0m\u001b[1;33m\u001b[0m\u001b[1;33m\u001b[0m\u001b[0m\n",
      "\u001b[1;32m~\\Anaconda3\\lib\\site-packages\\gym\\envs\\classic_control\\rendering.py\u001b[0m in \u001b[0;36mrender\u001b[1;34m(self, return_rgb_array)\u001b[0m\n\u001b[0;32m    122\u001b[0m             \u001b[0marr\u001b[0m \u001b[1;33m=\u001b[0m \u001b[0marr\u001b[0m\u001b[1;33m.\u001b[0m\u001b[0mreshape\u001b[0m\u001b[1;33m(\u001b[0m\u001b[0mbuffer\u001b[0m\u001b[1;33m.\u001b[0m\u001b[0mheight\u001b[0m\u001b[1;33m,\u001b[0m \u001b[0mbuffer\u001b[0m\u001b[1;33m.\u001b[0m\u001b[0mwidth\u001b[0m\u001b[1;33m,\u001b[0m \u001b[1;36m4\u001b[0m\u001b[1;33m)\u001b[0m\u001b[1;33m\u001b[0m\u001b[1;33m\u001b[0m\u001b[0m\n\u001b[0;32m    123\u001b[0m             \u001b[0marr\u001b[0m \u001b[1;33m=\u001b[0m \u001b[0marr\u001b[0m\u001b[1;33m[\u001b[0m\u001b[1;33m:\u001b[0m\u001b[1;33m:\u001b[0m\u001b[1;33m-\u001b[0m\u001b[1;36m1\u001b[0m\u001b[1;33m,\u001b[0m\u001b[1;33m:\u001b[0m\u001b[1;33m,\u001b[0m\u001b[1;36m0\u001b[0m\u001b[1;33m:\u001b[0m\u001b[1;36m3\u001b[0m\u001b[1;33m]\u001b[0m\u001b[1;33m\u001b[0m\u001b[1;33m\u001b[0m\u001b[0m\n\u001b[1;32m--> 124\u001b[1;33m         \u001b[0mself\u001b[0m\u001b[1;33m.\u001b[0m\u001b[0mwindow\u001b[0m\u001b[1;33m.\u001b[0m\u001b[0mflip\u001b[0m\u001b[1;33m(\u001b[0m\u001b[1;33m)\u001b[0m\u001b[1;33m\u001b[0m\u001b[1;33m\u001b[0m\u001b[0m\n\u001b[0m\u001b[0;32m    125\u001b[0m         \u001b[0mself\u001b[0m\u001b[1;33m.\u001b[0m\u001b[0monetime_geoms\u001b[0m \u001b[1;33m=\u001b[0m \u001b[1;33m[\u001b[0m\u001b[1;33m]\u001b[0m\u001b[1;33m\u001b[0m\u001b[1;33m\u001b[0m\u001b[0m\n\u001b[0;32m    126\u001b[0m         \u001b[1;32mreturn\u001b[0m \u001b[0marr\u001b[0m \u001b[1;32mif\u001b[0m \u001b[0mreturn_rgb_array\u001b[0m \u001b[1;32melse\u001b[0m \u001b[0mself\u001b[0m\u001b[1;33m.\u001b[0m\u001b[0misopen\u001b[0m\u001b[1;33m\u001b[0m\u001b[1;33m\u001b[0m\u001b[0m\n",
      "\u001b[1;32m~\\Anaconda3\\lib\\site-packages\\pyglet\\window\\win32\\__init__.py\u001b[0m in \u001b[0;36mflip\u001b[1;34m(self)\u001b[0m\n\u001b[0;32m    334\u001b[0m             \u001b[1;32mif\u001b[0m \u001b[0mself\u001b[0m\u001b[1;33m.\u001b[0m\u001b[0m_always_dwm\u001b[0m \u001b[1;32mor\u001b[0m \u001b[0mself\u001b[0m\u001b[1;33m.\u001b[0m\u001b[0m_dwm_composition_enabled\u001b[0m\u001b[1;33m(\u001b[0m\u001b[1;33m)\u001b[0m\u001b[1;33m:\u001b[0m\u001b[1;33m\u001b[0m\u001b[1;33m\u001b[0m\u001b[0m\n\u001b[0;32m    335\u001b[0m                 \u001b[1;32mif\u001b[0m \u001b[0mself\u001b[0m\u001b[1;33m.\u001b[0m\u001b[0m_interval\u001b[0m\u001b[1;33m:\u001b[0m\u001b[1;33m\u001b[0m\u001b[1;33m\u001b[0m\u001b[0m\n\u001b[1;32m--> 336\u001b[1;33m                     \u001b[0m_dwmapi\u001b[0m\u001b[1;33m.\u001b[0m\u001b[0mDwmFlush\u001b[0m\u001b[1;33m(\u001b[0m\u001b[1;33m)\u001b[0m\u001b[1;33m\u001b[0m\u001b[1;33m\u001b[0m\u001b[0m\n\u001b[0m\u001b[0;32m    337\u001b[0m \u001b[1;33m\u001b[0m\u001b[0m\n\u001b[0;32m    338\u001b[0m         \u001b[0mself\u001b[0m\u001b[1;33m.\u001b[0m\u001b[0mcontext\u001b[0m\u001b[1;33m.\u001b[0m\u001b[0mflip\u001b[0m\u001b[1;33m(\u001b[0m\u001b[1;33m)\u001b[0m\u001b[1;33m\u001b[0m\u001b[1;33m\u001b[0m\u001b[0m\n",
      "\u001b[1;31mKeyboardInterrupt\u001b[0m: "
     ]
    }
   ],
   "source": [
    "# Some initializations\n",
    "#\n",
    "episodes = 2\n",
    "gamma = 0.98\n",
    "epsilon = 0.05\n",
    "env = env.unwrapped # https://stackoverflow.com/questions/53836136/why-unwrap-an-openai-gym \n",
    "# env.seed()\n",
    "# np.random.seed(0)\n",
    "\n",
    "# Quantize the states\n",
    "#\n",
    "def discretization(env, obs):\n",
    "    env_low = env.observation_space.low # the lower bound of position: -1.2,and velocity:-0.07\n",
    "    env_high = env.observation_space.high # the upper bound of position: 0.6,and velocity:0.07\n",
    "    env_den = (env_high - env_low)/n_states # the density of one state=[0.045, 0.0035]=[0.6-(-1.2), 0.07-(-0.07)]/40(# of states)\n",
    "    pos_den = env_den[0]\n",
    "    vel_den = env_den[1]\n",
    "    \n",
    "    pos_high = env_high[0]\n",
    "    pos_low=env_low[0]\n",
    "    vel_high=env_high[1]\n",
    "    vel_low=env_low[1]\n",
    "    \n",
    "    pos_scaled=int((obs[0]-pos_low)/pos_den) # discretize the postion value as int in the state space\n",
    "    vel_scaled=int((obs[1]-vel_low)/vel_den) # discretize the velocity value as int in the state space \n",
    "    return pos_scaled,vel_scaled\n",
    "\n",
    "\n",
    "alpha=0.05\n",
    "w = np.random.randn(J,1)\n",
    "\n",
    "for episode in range(episodes):\n",
    "    print(\"Episode:\",episode)\n",
    "    \n",
    "    obs=env.reset() # initialize state S\n",
    "    pos, vel = discretization(env, obs) # discretize the current state\n",
    "    if np.random.uniform(low=0, high=1) < epsilon:# Ɛ-greedy method: select a random action 'a' with probability Ɛ to initialize state A\n",
    "        a = np.random.choice(env.action_space.n) \n",
    "    else:\n",
    "        a = np.argmax([q_hat(pos,vel,0,w)[0],q_hat(pos,vel,1,w)[0],q_hat(pos,vel,2,w)[0]])\n",
    "    \n",
    "    while True:\n",
    "        env.render()\n",
    "        pos, vel = discretization(env, obs) # discretize the current state\n",
    "        obs, reward, terminate,_ = env.step(a)  #Take action A, observe R, S'\n",
    "        delta_qhat=np.array(U[q_hat(pos,vel,a,w)[1],:]).T\n",
    "        if terminate:\n",
    "            w=w+alpha*(q_table[pos][vel][a]-q_hat(pos,vel,a,w)[0])*delta_qhat # Updtae w if the episode is terminated\n",
    "            break #Go to the next episode\n",
    "        #Choose A' as a function of q_hat(S', ·, w) (e.g., Ɛ-greedy)\n",
    "        pos_, vel_ = discretization(env, obs) #discretize the next state\n",
    "        if np.random.uniform(low=0, high=1) < epsilon:# Ɛ-greedy method: select a random action 'a' with probability Ɛ\n",
    "            a_ = np.random.choice(env.action_space.n) \n",
    "        else:\n",
    "            a_ = np.argmax([q_hat(pos_,vel_,0,w)[0],q_hat(pos_,vel_,1,w)[0],q_hat(pos_,vel_,2,w)[0]])\n",
    "        w=w+alpha*(q_table[pos][vel][a]-q_hat(pos,vel,a,w)[0])*delta_qhat #Update w if the episode is not terminated\n",
    "        a=a_ #Reassign a\n",
    "'''            \n",
    "            \n",
    "while True:\n",
    "    env.render()\n",
    "    '''"
   ]
  },
  {
   "cell_type": "code",
   "execution_count": null,
   "metadata": {},
   "outputs": [],
   "source": []
  }
 ],
 "metadata": {
  "kernelspec": {
   "display_name": "Python 3",
   "language": "python",
   "name": "python3"
  },
  "language_info": {
   "codemirror_mode": {
    "name": "ipython",
    "version": 3
   },
   "file_extension": ".py",
   "mimetype": "text/x-python",
   "name": "python",
   "nbconvert_exporter": "python",
   "pygments_lexer": "ipython3",
   "version": "3.7.7"
  }
 },
 "nbformat": 4,
 "nbformat_minor": 4
}
